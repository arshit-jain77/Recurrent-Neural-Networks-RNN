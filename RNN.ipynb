{
 "cells": [
  {
   "cell_type": "code",
   "execution_count": 1,
   "metadata": {},
   "outputs": [],
   "source": [
    "import numpy as np"
   ]
  },
  {
   "cell_type": "code",
   "execution_count": 2,
   "metadata": {},
   "outputs": [],
   "source": [
    "\n",
    "def rnn_cell_forward(xt, a_prev, parameters):\n",
    "    \n",
    "    # Retrieve parameters from \"parameters\"\n",
    "    Wax = parameters[\"Wax\"]\n",
    "    Waa = parameters[\"Waa\"]\n",
    "    Wya = parameters[\"Wya\"]\n",
    "    ba = parameters[\"ba\"]\n",
    "    by = parameters[\"by\"]\n",
    "    \n",
    "    def softmax(x):\n",
    "        e_x = np.exp(x - np.max(x))\n",
    "        return e_x / e_x.sum(axis=0)\n",
    "    \n",
    "    # compute next activation state using the formula given above\n",
    "    a_next = np.tanh(np.dot(Waa,a_prev)+np.dot(Wax,xt)+ba)\n",
    "    # compute output of the current cell using the formula given above\n",
    "    yt_pred = softmax(np.dot(Wya,a_next) + by)\n",
    "    \n",
    "    # store values you need for backward propagation in cache\n",
    "    cache = (a_next, a_prev, xt, parameters)\n",
    "    \n",
    "    return a_next, yt_pred, cache"
   ]
  },
  {
   "cell_type": "code",
   "execution_count": 3,
   "metadata": {},
   "outputs": [
    {
     "name": "stdout",
     "output_type": "stream",
     "text": [
      "a_next[4] = \n",
      " [ 0.59584544  0.18141802  0.61311866  0.99808218  0.85016201  0.99980978\n",
      " -0.18887155  0.99815551  0.6531151   0.82872037]\n",
      "a_next.shape = \n",
      " (5, 10)\n",
      "yt_pred[1] =\n",
      " [0.9888161  0.01682021 0.21140899 0.36817467 0.98988387 0.88945212\n",
      " 0.36920224 0.9966312  0.9982559  0.17746526]\n",
      "yt_pred.shape = \n",
      " (2, 10)\n"
     ]
    }
   ],
   "source": [
    "np.random.seed(1)\n",
    "xt_tmp = np.random.randn(3,10)\n",
    "a_prev_tmp = np.random.randn(5,10)\n",
    "parameters_tmp = {}\n",
    "parameters_tmp['Waa'] = np.random.randn(5,5)\n",
    "parameters_tmp['Wax'] = np.random.randn(5,3)\n",
    "parameters_tmp['Wya'] = np.random.randn(2,5)\n",
    "parameters_tmp['ba'] = np.random.randn(5,1)\n",
    "parameters_tmp['by'] = np.random.randn(2,1)\n",
    "\n",
    "a_next_tmp, yt_pred_tmp, cache_tmp = rnn_cell_forward(xt_tmp, a_prev_tmp, parameters_tmp)\n",
    "print(\"a_next[4] = \\n\", a_next_tmp[4])\n",
    "print(\"a_next.shape = \\n\", a_next_tmp.shape)\n",
    "print(\"yt_pred[1] =\\n\", yt_pred_tmp[1])\n",
    "print(\"yt_pred.shape = \\n\", yt_pred_tmp.shape)"
   ]
  },
  {
   "cell_type": "code",
   "execution_count": 4,
   "metadata": {},
   "outputs": [
    {
     "data": {
      "text/plain": [
       "array([[ 1.62434536, -0.61175641, -0.52817175, -1.07296862,  0.86540763,\n",
       "        -2.3015387 ,  1.74481176, -0.7612069 ,  0.3190391 , -0.24937038],\n",
       "       [ 1.46210794, -2.06014071, -0.3224172 , -0.38405435,  1.13376944,\n",
       "        -1.09989127, -0.17242821, -0.87785842,  0.04221375,  0.58281521],\n",
       "       [-1.10061918,  1.14472371,  0.90159072,  0.50249434,  0.90085595,\n",
       "        -0.68372786, -0.12289023, -0.93576943, -0.26788808,  0.53035547]])"
      ]
     },
     "execution_count": 4,
     "metadata": {},
     "output_type": "execute_result"
    }
   ],
   "source": [
    "xt_tmp"
   ]
  },
  {
   "cell_type": "code",
   "execution_count": 5,
   "metadata": {},
   "outputs": [],
   "source": [
    "\n",
    "\n",
    "def rnn_forward(x, a0, parameters):\n",
    "    \n",
    "    # Initialize \"caches\" which will contain the list of all caches\n",
    "    caches = []\n",
    "    \n",
    "    # Retrieve dimensions from shapes of x and parameters[\"Wya\"]\n",
    "    n_x, m, T_x = x.shape\n",
    "    n_y, n_a = parameters[\"Wya\"].shape\n",
    "    \n",
    "    # initialize \"a\" and \"y_pred\" with zeros (≈2 lines)\n",
    "    a = np.zeros((n_a,m,T_x), dtype=float)\n",
    "    y_pred = np.zeros((n_y,m,T_x), dtype=float)\n",
    "    print(y_pred)\n",
    "    print(y_pred.shape)\n",
    "    # Initialize a_next (≈1 line)\n",
    "    a_next = a0\n",
    "    \n",
    "    # loop over all time-steps of the input 'x' (1 line)\n",
    "    for t in range(T_x):\n",
    "        # Update next hidden state, compute the prediction, get the cache (≈2 lines)\n",
    "        xt = x[:, :, t]\n",
    "        a_next, yt_pred, cache= rnn_cell_forward(xt, a_next, parameters)\n",
    "        a[:,:,t] = a_next\n",
    "        # Save the value of the prediction in y (≈1 line)\n",
    "        y_pred[:,:,t] = yt_pred\n",
    "        print(y_pred[:,:,t])\n",
    "        print(\"***************************************\")\n",
    "        # Append \"cache\" to \"caches\" (≈1 line)\n",
    "        caches.append(cache)\n",
    "        \n",
    "    # store values needed for backward propagation in cache\n",
    "    caches = (caches, x)\n",
    "    print(\"Y_t pred shape  \",yt_pred.shape)\n",
    "    return a, y_pred, caches"
   ]
  },
  {
   "cell_type": "code",
   "execution_count": 6,
   "metadata": {},
   "outputs": [
    {
     "name": "stdout",
     "output_type": "stream",
     "text": [
      "[[[0. 0. 0. 0.]\n",
      "  [0. 0. 0. 0.]\n",
      "  [0. 0. 0. 0.]\n",
      "  [0. 0. 0. 0.]\n",
      "  [0. 0. 0. 0.]\n",
      "  [0. 0. 0. 0.]\n",
      "  [0. 0. 0. 0.]\n",
      "  [0. 0. 0. 0.]\n",
      "  [0. 0. 0. 0.]\n",
      "  [0. 0. 0. 0.]]\n",
      "\n",
      " [[0. 0. 0. 0.]\n",
      "  [0. 0. 0. 0.]\n",
      "  [0. 0. 0. 0.]\n",
      "  [0. 0. 0. 0.]\n",
      "  [0. 0. 0. 0.]\n",
      "  [0. 0. 0. 0.]\n",
      "  [0. 0. 0. 0.]\n",
      "  [0. 0. 0. 0.]\n",
      "  [0. 0. 0. 0.]\n",
      "  [0. 0. 0. 0.]]]\n",
      "(2, 10, 4)\n",
      "[[9.99129368e-01 9.99394165e-01 9.94277463e-01 2.04396268e-01\n",
      "  7.42084036e-01 3.43688280e-01 9.39252776e-01 9.35504646e-01\n",
      "  6.39183022e-01 6.07750160e-01]\n",
      " [8.70631878e-04 6.05834882e-04 5.72253732e-03 7.95603732e-01\n",
      "  2.57915964e-01 6.56311720e-01 6.07472236e-02 6.44953539e-02\n",
      "  3.60816978e-01 3.92249840e-01]]\n",
      "***************************************\n",
      "[[0.89077259 0.32694781 0.99599937 0.13775139 0.41603066 0.99886751\n",
      "  0.7075855  0.98573143 0.02350082 0.89866672]\n",
      " [0.10922741 0.67305219 0.00400063 0.86224861 0.58396934 0.00113249\n",
      "  0.2924145  0.01426857 0.97649918 0.10133328]]\n",
      "***************************************\n",
      "[[7.04206315e-01 9.98789616e-01 9.97939529e-01 8.88817431e-01\n",
      "  5.96207274e-02 9.89766361e-01 8.85151052e-01 9.37994449e-01\n",
      "  8.20174082e-01 9.99114486e-01]\n",
      " [2.95793685e-01 1.21038427e-03 2.06047094e-03 1.11182569e-01\n",
      "  9.40379273e-01 1.02336394e-02 1.14848948e-01 6.20055512e-02\n",
      "  1.79825918e-01 8.85513795e-04]]\n",
      "***************************************\n",
      "[[0.91973    0.9882193  0.27662409 0.18484053 0.95645202 0.89913759\n",
      "  0.33476872 0.64578294 0.34243125 0.99018762]\n",
      " [0.08027    0.0117807  0.72337591 0.81515947 0.04354798 0.10086241\n",
      "  0.66523128 0.35421706 0.65756875 0.00981238]]\n",
      "***************************************\n",
      "Y_t pred shape   (2, 10)\n",
      "a[4][1] = \n",
      " [-0.99999375  0.77911235 -0.99861469 -0.99833267]\n",
      "a.shape = \n",
      " (5, 10, 4)\n",
      "y_pred[1][3] =\n",
      " [0.79560373 0.86224861 0.11118257 0.81515947]\n",
      "y_pred.shape = \n",
      " (2, 10, 4)\n",
      "caches[1][1][3] =\n",
      " [-1.1425182  -0.34934272 -0.20889423  0.58662319]\n",
      "len(caches) = \n",
      " 2\n"
     ]
    }
   ],
   "source": [
    "np.random.seed(1)\n",
    "x_tmp = np.random.randn(3,10,4)\n",
    "a0_tmp = np.random.randn(5,10)\n",
    "parameters_tmp = {}\n",
    "parameters_tmp['Waa'] = np.random.randn(5,5)\n",
    "parameters_tmp['Wax'] = np.random.randn(5,3)\n",
    "parameters_tmp['Wya'] = np.random.randn(2,5)\n",
    "parameters_tmp['ba'] = np.random.randn(5,1)\n",
    "parameters_tmp['by'] = np.random.randn(2,1)\n",
    "\n",
    "a_tmp, y_pred_tmp, caches_tmp = rnn_forward(x_tmp, a0_tmp, parameters_tmp)\n",
    "print(\"a[4][1] = \\n\", a_tmp[4][1])\n",
    "print(\"a.shape = \\n\", a_tmp.shape)\n",
    "print(\"y_pred[1][3] =\\n\", y_pred_tmp[1][3])\n",
    "print(\"y_pred.shape = \\n\", y_pred_tmp.shape)\n",
    "print(\"caches[1][1][3] =\\n\", caches_tmp[1][1][3])\n",
    "print(\"len(caches) = \\n\", len(caches_tmp))\n"
   ]
  },
  {
   "cell_type": "code",
   "execution_count": 7,
   "metadata": {},
   "outputs": [
    {
     "data": {
      "text/plain": [
       "(2, 10, 4)"
      ]
     },
     "execution_count": 7,
     "metadata": {},
     "output_type": "execute_result"
    }
   ],
   "source": [
    "y_pred_tmp.shape"
   ]
  },
  {
   "cell_type": "code",
   "execution_count": 8,
   "metadata": {},
   "outputs": [
    {
     "data": {
      "text/plain": [
       "array([[[9.99129368e-01, 8.90772592e-01, 7.04206315e-01, 9.19730000e-01],\n",
       "        [9.99394165e-01, 3.26947813e-01, 9.98789616e-01, 9.88219303e-01],\n",
       "        [9.94277463e-01, 9.95999371e-01, 9.97939529e-01, 2.76624090e-01],\n",
       "        [2.04396268e-01, 1.37751394e-01, 8.88817431e-01, 1.84840534e-01],\n",
       "        [7.42084036e-01, 4.16030656e-01, 5.96207274e-02, 9.56452021e-01],\n",
       "        [3.43688280e-01, 9.98867515e-01, 9.89766361e-01, 8.99137589e-01],\n",
       "        [9.39252776e-01, 7.07585502e-01, 8.85151052e-01, 3.34768716e-01],\n",
       "        [9.35504646e-01, 9.85731426e-01, 9.37994449e-01, 6.45782938e-01],\n",
       "        [6.39183022e-01, 2.35008185e-02, 8.20174082e-01, 3.42431253e-01],\n",
       "        [6.07750160e-01, 8.98666718e-01, 9.99114486e-01, 9.90187623e-01]],\n",
       "\n",
       "       [[8.70631878e-04, 1.09227408e-01, 2.95793685e-01, 8.02699998e-02],\n",
       "        [6.05834882e-04, 6.73052187e-01, 1.21038427e-03, 1.17806974e-02],\n",
       "        [5.72253732e-03, 4.00062909e-03, 2.06047094e-03, 7.23375910e-01],\n",
       "        [7.95603732e-01, 8.62248606e-01, 1.11182569e-01, 8.15159466e-01],\n",
       "        [2.57915964e-01, 5.83969344e-01, 9.40379273e-01, 4.35479788e-02],\n",
       "        [6.56311720e-01, 1.13248528e-03, 1.02336394e-02, 1.00862411e-01],\n",
       "        [6.07472236e-02, 2.92414498e-01, 1.14848948e-01, 6.65231284e-01],\n",
       "        [6.44953539e-02, 1.42685743e-02, 6.20055512e-02, 3.54217062e-01],\n",
       "        [3.60816978e-01, 9.76499181e-01, 1.79825918e-01, 6.57568747e-01],\n",
       "        [3.92249840e-01, 1.01333282e-01, 8.85513795e-04, 9.81237745e-03]]])"
      ]
     },
     "execution_count": 8,
     "metadata": {},
     "output_type": "execute_result"
    }
   ],
   "source": [
    "y_pred_tmp"
   ]
  },
  {
   "cell_type": "code",
   "execution_count": 9,
   "metadata": {},
   "outputs": [
    {
     "data": {
      "text/plain": [
       "array([[[ 1.62434536, -0.61175641, -0.52817175, -1.07296862],\n",
       "        [ 0.86540763, -2.3015387 ,  1.74481176, -0.7612069 ],\n",
       "        [ 0.3190391 , -0.24937038,  1.46210794, -2.06014071],\n",
       "        [-0.3224172 , -0.38405435,  1.13376944, -1.09989127],\n",
       "        [-0.17242821, -0.87785842,  0.04221375,  0.58281521],\n",
       "        [-1.10061918,  1.14472371,  0.90159072,  0.50249434],\n",
       "        [ 0.90085595, -0.68372786, -0.12289023, -0.93576943],\n",
       "        [-0.26788808,  0.53035547, -0.69166075, -0.39675353],\n",
       "        [-0.6871727 , -0.84520564, -0.67124613, -0.0126646 ],\n",
       "        [-1.11731035,  0.2344157 ,  1.65980218,  0.74204416]],\n",
       "\n",
       "       [[-0.19183555, -0.88762896, -0.74715829,  1.6924546 ],\n",
       "        [ 0.05080775, -0.63699565,  0.19091548,  2.10025514],\n",
       "        [ 0.12015895,  0.61720311,  0.30017032, -0.35224985],\n",
       "        [-1.1425182 , -0.34934272, -0.20889423,  0.58662319],\n",
       "        [ 0.83898341,  0.93110208,  0.28558733,  0.88514116],\n",
       "        [-0.75439794,  1.25286816,  0.51292982, -0.29809284],\n",
       "        [ 0.48851815, -0.07557171,  1.13162939,  1.51981682],\n",
       "        [ 2.18557541, -1.39649634, -1.44411381, -0.50446586],\n",
       "        [ 0.16003707,  0.87616892,  0.31563495, -2.02220122],\n",
       "        [-0.30620401,  0.82797464,  0.23009474,  0.76201118]],\n",
       "\n",
       "       [[-0.22232814, -0.20075807,  0.18656139,  0.41005165],\n",
       "        [ 0.19829972,  0.11900865, -0.67066229,  0.37756379],\n",
       "        [ 0.12182127,  1.12948391,  1.19891788,  0.18515642],\n",
       "        [-0.37528495, -0.63873041,  0.42349435,  0.07734007],\n",
       "        [-0.34385368,  0.04359686, -0.62000084,  0.69803203],\n",
       "        [-0.44712856,  1.2245077 ,  0.40349164,  0.59357852],\n",
       "        [-1.09491185,  0.16938243,  0.74055645, -0.9537006 ],\n",
       "        [-0.26621851,  0.03261455, -1.37311732,  0.31515939],\n",
       "        [ 0.84616065, -0.85951594,  0.35054598, -1.31228341],\n",
       "        [-0.03869551, -1.61577235,  1.12141771,  0.40890054]]])"
      ]
     },
     "execution_count": 9,
     "metadata": {},
     "output_type": "execute_result"
    }
   ],
   "source": [
    "x_tmp"
   ]
  },
  {
   "cell_type": "code",
   "execution_count": 10,
   "metadata": {},
   "outputs": [
    {
     "data": {
      "text/plain": [
       "array([[-0.02461696, -0.77516162,  1.27375593,  1.96710175, -1.85798186,\n",
       "         1.23616403,  1.62765075,  0.3380117 , -1.19926803,  0.86334532],\n",
       "       [-0.1809203 , -0.60392063, -1.23005814,  0.5505375 ,  0.79280687,\n",
       "        -0.62353073,  0.52057634, -1.14434139,  0.80186103,  0.0465673 ],\n",
       "       [-0.18656977, -0.10174587,  0.86888616,  0.75041164,  0.52946532,\n",
       "         0.13770121,  0.07782113,  0.61838026,  0.23249456,  0.68255141],\n",
       "       [-0.31011677, -2.43483776,  1.0388246 ,  2.18697965,  0.44136444,\n",
       "        -0.10015523, -0.13644474, -0.11905419,  0.01740941, -1.12201873],\n",
       "       [-0.51709446, -0.99702683,  0.24879916, -0.29664115,  0.49521132,\n",
       "        -0.17470316,  0.98633519,  0.2135339 ,  2.19069973, -1.89636092]])"
      ]
     },
     "execution_count": 10,
     "metadata": {},
     "output_type": "execute_result"
    }
   ],
   "source": [
    "a0_tmp"
   ]
  },
  {
   "cell_type": "code",
   "execution_count": 11,
   "metadata": {},
   "outputs": [
    {
     "data": {
      "text/plain": [
       "(5, 10)"
      ]
     },
     "execution_count": 11,
     "metadata": {},
     "output_type": "execute_result"
    }
   ],
   "source": [
    "a0_tmp.shape"
   ]
  },
  {
   "cell_type": "code",
   "execution_count": null,
   "metadata": {},
   "outputs": [],
   "source": []
  }
 ],
 "metadata": {
  "kernelspec": {
   "display_name": "Python 3",
   "language": "python",
   "name": "python3"
  },
  "language_info": {
   "codemirror_mode": {
    "name": "ipython",
    "version": 3
   },
   "file_extension": ".py",
   "mimetype": "text/x-python",
   "name": "python",
   "nbconvert_exporter": "python",
   "pygments_lexer": "ipython3",
   "version": "3.7.4"
  }
 },
 "nbformat": 4,
 "nbformat_minor": 2
}
